{
 "cells": [
  {
   "cell_type": "code",
   "execution_count": 1,
   "metadata": {},
   "outputs": [],
   "source": [
    "import torch\n",
    "from torch import nn\n",
    "import torch.optim as optim\n",
    "import torch.functional as F\n",
    "import torchvision\n",
    "import torchvision.transforms as transforms\n",
    "from tqdm import tnrange\n",
    "import matplotlib.pyplot as plt\n",
    "import numpy as np"
   ]
  },
  {
   "cell_type": "code",
   "execution_count": 2,
   "metadata": {},
   "outputs": [],
   "source": [
    "SEED = 42\n",
    "torch.manual_seed(SEED)\n",
    "np.random.seed(42)\n",
    "torch.backends.cudnn.deterministic = True\n",
    "torch.backends.cudnn.benchmark = True"
   ]
  },
  {
   "cell_type": "code",
   "execution_count": 3,
   "metadata": {},
   "outputs": [
    {
     "data": {
      "text/plain": [
       "device(type='cuda')"
      ]
     },
     "execution_count": 3,
     "metadata": {},
     "output_type": "execute_result"
    }
   ],
   "source": [
    "device = torch.device('cuda' if torch.cuda.is_available() else 'cpu')\n",
    "device"
   ]
  },
  {
   "cell_type": "code",
   "execution_count": 4,
   "metadata": {},
   "outputs": [],
   "source": [
    "batch_size = 128\n",
    "z_dim = 2"
   ]
  },
  {
   "cell_type": "markdown",
   "metadata": {},
   "source": [
    "### Data Load"
   ]
  },
  {
   "cell_type": "code",
   "execution_count": 5,
   "metadata": {},
   "outputs": [],
   "source": [
    "trfs = transforms.Compose([\n",
    "    transforms.ToTensor()\n",
    "])\n",
    "\n",
    "dataset_train = torchvision.datasets.MNIST('./data', train=True, download=True, transform=trfs)\n",
    "dataloader_train = torch.utils.data.DataLoader(dataset_train, batch_size=batch_size, shuffle=True)\n",
    "\n",
    "dataset_train_size = len(dataset_train)\n",
    "n_classes = len(dataset_train.classes)"
   ]
  },
  {
   "cell_type": "code",
   "execution_count": 6,
   "metadata": {},
   "outputs": [],
   "source": [
    "def plot_batch(x_batch, y_batch):\n",
    "    plt.figure(figsize=(6, 6))\n",
    "    for i in range(9):\n",
    "        plt.subplot(3, 3, i+1)\n",
    "        plt.title(y_batch[i].numpy())\n",
    "        image = x_batch[i].squeeze().numpy()\n",
    "        plt.imshow(image, cmap='gray')\n",
    "    plt.tight_layout()"
   ]
  },
  {
   "cell_type": "code",
   "execution_count": 7,
   "metadata": {},
   "outputs": [
    {
     "data": {
      "text/plain": [
       "(torch.Size([128, 1, 28, 28]), tensor(1.), tensor(0.))"
      ]
     },
     "execution_count": 7,
     "metadata": {},
     "output_type": "execute_result"
    }
   ],
   "source": [
    "x_batch, y_batch = next(iter(dataloader_train))\n",
    "x_batch.size(), x_batch.max(), x_batch.min()"
   ]
  },
  {
   "cell_type": "code",
   "execution_count": 8,
   "metadata": {
    "scrolled": false
   },
   "outputs": [
    {
     "data": {
      "image/png": "[encoded data removed]",
      "text/plain": [
       "<Figure size 432x432 with 9 Axes>"
      ]
     },
     "metadata": {},
     "output_type": "display_data"
    }
   ],
   "source": [
    "plot_batch(x_batch, y_batch)"
   ]
  },
  {
   "cell_type": "markdown",
   "metadata": {},
   "source": [
    "### Models"
   ]
  },
  {
   "cell_type": "code",
   "execution_count": 9,
   "metadata": {},
   "outputs": [],
   "source": [
    "class Encoder(nn.Module):\n",
    "    def __init__(self):\n",
    "        super().__init__()\n",
    "        self.base_model = nn.Sequential(\n",
    "            nn.Linear(784, 1000),\n",
    "            nn.ReLU(),\n",
    "            nn.Linear(1000, 1000),\n",
    "            nn.ReLU(),\n",
    "        )\n",
    "        self.latent = nn.Linear(1000, z_dim)\n",
    "        self.cat = nn.Linear(1000, n_classes)\n",
    "    \n",
    "    def forward(self, x):\n",
    "        x = x.view(-1, 784)\n",
    "        y = self.base_model(x)\n",
    "        y_latent = self.latent(y)\n",
    "        y_cat = self.cat(y)\n",
    "        return y_latent, y_cat"
   ]
  },
  {
   "cell_type": "code",
   "execution_count": 10,
   "metadata": {},
   "outputs": [],
   "source": [
    "class Decoder(nn.Module):\n",
    "    def __init__(self):\n",
    "        super().__init__()\n",
    "        self.model = nn.Sequential(\n",
    "            nn.Linear(z_dim + n_classes, 1000),\n",
    "            nn.ReLU(),\n",
    "            nn.Linear(1000, 1000),\n",
    "            nn.ReLU(),\n",
    "            nn.Linear(1000, 784),\n",
    "            nn.Sigmoid()\n",
    "        )\n",
    "    \n",
    "    def forward(self, x):\n",
    "        y = self.model(x)\n",
    "        y = y.view(-1, 1, 28, 28)\n",
    "        return y"
   ]
  },
  {
   "cell_type": "code",
   "execution_count": 11,
   "metadata": {},
   "outputs": [],
   "source": [
    "class Discriminator(nn.Module):\n",
    "    def __init__(self, input_dim):\n",
    "        super().__init__()\n",
    "        self.model = nn.Sequential(\n",
    "            nn.Linear(input_dim, 1000),\n",
    "            nn.ReLU(),\n",
    "            nn.Linear(1000, 1000),\n",
    "            nn.ReLU(),\n",
    "            nn.Linear(1000, 1),\n",
    "            nn.Sigmoid()\n",
    "        )\n",
    "    \n",
    "    def forward(self, x):\n",
    "        y = self.model(x)\n",
    "        return y\n",
    "        "
   ]
  },
  {
   "cell_type": "markdown",
   "metadata": {},
   "source": [
    "### Training"
   ]
  },
  {
   "cell_type": "code",
   "execution_count": 12,
   "metadata": {},
   "outputs": [],
   "source": [
    "def gen_z_gauss(i_size):\n",
    "    return (torch.randn(i_size, z_dim) * 5).to(device)"
   ]
  },
  {
   "cell_type": "code",
   "execution_count": 13,
   "metadata": {},
   "outputs": [],
   "source": [
    "def gen_z_cat(i_size, targets):\n",
    "    one_hot = torch.zeros((i_size, n_classes), device=device)\n",
    "    return one_hot.scatter(1, targets.view(-1, 1), 1)"
   ]
  },
  {
   "cell_type": "code",
   "execution_count": 23,
   "metadata": {
    "scrolled": false
   },
   "outputs": [
    {
     "data": {
      "application/vnd.jupyter.widget-view+json": {
       "model_id": "d5ac2548a09c4b88bf95091afe23c953",
       "version_major": 2,
       "version_minor": 0
      },
      "text/plain": [
       "HBox(children=(IntProgress(value=0, max=20), HTML(value='')))"
      ]
     },
     "metadata": {},
     "output_type": "display_data"
    },
    {
     "name": "stdout",
     "output_type": "stream",
     "text": [
      "\n",
      "CPU times: user 3min 6s, sys: 14.2 s, total: 3min 20s\n",
      "Wall time: 3min 23s\n"
     ]
    },
    {
     "data": {
      "image/png": "[encoded data removed]",
      "text/plain": [
       "<Figure size 720x576 with 1 Axes>"
      ]
     },
     "metadata": {},
     "output_type": "display_data"
    }
   ],
   "source": [
    "%%time\n",
    "n_epochs = 20\n",
    "lr = 1e-3\n",
    "\n",
    "\n",
    "enc = Encoder().to(device)\n",
    "dec = Decoder().to(device)\n",
    "disc_gauss = Discriminator(z_dim).to(device)\n",
    "disc_cat = Discriminator(n_classes).to(device)\n",
    "\n",
    "ae_optimizer = optim.Adam(list(enc.parameters()) + list(dec.parameters()), lr = lr)\n",
    "ae_criterion = nn.MSELoss()\n",
    "\n",
    "disc_gauss_optimizer = optim.Adam(disc_gauss.parameters(), lr = lr)\n",
    "enc_gauss_optimizer = optim.Adam(enc.parameters(), lr = lr)\n",
    "\n",
    "disc_cat_optimizer = optim.Adam(disc_cat.parameters(), lr = lr)\n",
    "enc_cat_optimizer = optim.Adam(enc.parameters(), lr = lr)\n",
    "\n",
    "disc_criterion = nn.BCELoss()\n",
    "enc_criterion = nn.BCELoss()\n",
    "\n",
    "\n",
    "ae_loss_hist = []\n",
    "disc_gauss_loss_hist = []\n",
    "disc_cat_loss_hist = []\n",
    "enc_gauss_loss_hist = []\n",
    "enc_cat_loss_hist = []\n",
    "\n",
    "with tnrange(n_epochs) as t:\n",
    "    for e in t:\n",
    "        t.set_description(f'Epoch {e+1}/{n_epochs}')\n",
    "        \n",
    "        ae_epoch_loss = 0.0\n",
    "        disc_gauss_epoch_loss = 0.0\n",
    "        enc_gauss_epoch_loss = 0.0\n",
    "        disc_cat_epoch_loss = 0.0\n",
    "        enc_cat_epoch_loss = 0.0\n",
    "        \n",
    "        for inputs, targets in dataloader_train:\n",
    "            i_size = inputs.size(0)\n",
    "            \n",
    "            inputs, targets = inputs.to(device), targets.to(device)\n",
    "            \n",
    "            ########################\n",
    "            # Reconstruction phase #\n",
    "            ########################\n",
    "            ae_optimizer.zero_grad()\n",
    "            z_enc, c_enc = enc(inputs)\n",
    "            dec_input = torch.cat((z_enc, c_enc), dim=1)\n",
    "            ae_outputus = dec(dec_input)\n",
    "            \n",
    "            ae_loss = ae_criterion(ae_outputus, inputs)\n",
    "            ae_loss.backward()\n",
    "            ae_optimizer.step()\n",
    "            \n",
    "            ae_epoch_loss += ae_loss.item() * i_size\n",
    "            \n",
    "            ########################\n",
    "            # Regularization phase #\n",
    "            ########################\n",
    "            disc_targets = torch.cat((torch.ones(i_size, 1), torch.zeros(i_size, 1)), dim=0).to(device)\n",
    "            enc_targets = torch.ones(i_size, 1).to(device)\n",
    "            \n",
    "            ## Discriminator - gauss\n",
    "            z_fake, _ = enc(inputs)\n",
    "                        \n",
    "            z_real = gen_z_gauss(i_size)\n",
    "            disc_gauss_inputs = torch.cat((z_real, z_fake.detach()), dim=0)\n",
    "            disc_gauss_targets = disc_targets.detach() # clone without grads\n",
    "            \n",
    "            disc_gauss_optimizer.zero_grad()            \n",
    "            disc_gauss_outputs = disc_gauss(disc_gauss_inputs)\n",
    "            disc_gauss_loss = disc_criterion(disc_gauss_outputs, disc_gauss_targets)\n",
    "            disc_gauss_loss.backward()\n",
    "            disc_gauss_optimizer.step()\n",
    "            \n",
    "            disc_gauss_epoch_loss += disc_gauss_loss.item() * disc_gauss_inputs.size(0)\n",
    "            \n",
    "            ## Encoder - gauss\n",
    "            enc_gauss_optimizer.zero_grad()\n",
    "            enc_gauss_outputs = disc_gauss(z_fake)\n",
    "            enc_gauss_targets = enc_targets.detach() # clone without grads\n",
    "            enc_gauss_loss = enc_criterion(enc_gauss_outputs, enc_gauss_targets)\n",
    "            enc_gauss_loss.backward()\n",
    "            enc_gauss_optimizer.step()\n",
    "            \n",
    "            enc_gauss_epoch_loss += enc_gauss_loss.item() * i_size\n",
    "            \n",
    "            ## Discriminator - cat\n",
    "            _, c_fake = enc(inputs)\n",
    "            \n",
    "            c_real = gen_z_cat(i_size, targets)\n",
    "            disc_cat_inputs = torch.cat((c_real, c_fake.detach()), dim=0)\n",
    "            disc_cat_targets = disc_targets.detach() # clone without grads\n",
    "            \n",
    "            disc_cat_optimizer.zero_grad()\n",
    "            disc_cat_outputs = disc_cat(disc_cat_inputs)\n",
    "            disc_cat_loss = disc_criterion(disc_cat_outputs, disc_cat_targets)\n",
    "            disc_cat_loss.backward()\n",
    "            disc_cat_optimizer.step()\n",
    "            \n",
    "            disc_cat_epoch_loss += disc_cat_loss.item() * disc_cat_inputs.size(0)\n",
    "            \n",
    "            ## Encoder - cat\n",
    "            enc_cat_optimizer.zero_grad()\n",
    "            enc_cat_outputs = disc_cat(c_fake)\n",
    "            enc_cat_targets = enc_targets.detach() # clone without grads\n",
    "            enc_cat_loss = enc_criterion(enc_cat_outputs, enc_cat_targets)\n",
    "            enc_cat_loss.backward()\n",
    "            enc_cat_optimizer.step()\n",
    "            \n",
    "            enc_cat_epoch_loss += enc_cat_loss.item() * i_size\n",
    "            \n",
    "            \n",
    "        # End of epoch\n",
    "        ae_epoch_loss /= dataset_train_size\n",
    "        disc_gauss_epoch_loss /= (dataset_train_size * 2)\n",
    "        enc_gauss_epoch_loss /= dataset_train_size\n",
    "        disc_cat_epoch_loss /= (dataset_train_size * 2)\n",
    "        enc_cat_epoch_loss /= dataset_train_size\n",
    "        \n",
    "        t.set_postfix(ae=ae_epoch_loss, \n",
    "                      disc_gauss=disc_gauss_epoch_loss, \n",
    "                      enc_gauss=enc_gauss_epoch_loss,\n",
    "                      disc_cat=disc_cat_epoch_loss, \n",
    "                      enc_cat=enc_cat_epoch_loss)\n",
    "        \n",
    "        ae_loss_hist.append(ae_epoch_loss)\n",
    "        disc_gauss_loss_hist.append(disc_gauss_epoch_loss)\n",
    "        enc_gauss_loss_hist.append(enc_gauss_epoch_loss)\n",
    "        disc_cat_loss_hist.append(disc_cat_epoch_loss)\n",
    "        enc_cat_loss_hist.append(enc_cat_epoch_loss)\n",
    "\n",
    "\n",
    "plt.figure(figsize=(14, 12))\n",
    "plt.subplot(3, 1, 1)\n",
    "plt.plot(range(n_epochs), ae_loss_hist, label='ae')\n",
    "plt.title('ae')\n",
    "\n",
    "plt.subplot(3, 1, 2)\n",
    "plt.plot(range(n_epochs), enc_gauss_loss_hist, label='enc_gauss')\n",
    "plt.plot(range(n_epochs), disc_gauss_loss_hist, label='disc_gauss')\n",
    "plt.legend()\n",
    "plt.title('gauss')\n",
    "\n",
    "plt.subplot(3, 1, 3)\n",
    "plt.plot(range(n_epochs), enc_cat_loss_hist, label='enc_cat')\n",
    "plt.plot(range(n_epochs), disc_cat_loss_hist, label='disc_cat')\n",
    "plt.legend()\n",
    "plt.title('cat');"
   ]
  },
  {
   "cell_type": "code",
   "execution_count": null,
   "metadata": {},
   "outputs": [],
   "source": []
  },
  {
   "cell_type": "code",
   "execution_count": null,
   "metadata": {},
   "outputs": [],
   "source": []
  },
  {
   "cell_type": "code",
   "execution_count": 24,
   "metadata": {},
   "outputs": [
    {
     "data": {
      "image/png": "[encoded data removed]",
      "text/plain": [
       "<Figure size 432x432 with 9 Axes>"
      ]
     },
     "metadata": {},
     "output_type": "display_data"
    }
   ],
   "source": [
    "imgs = x_batch.to(device)\n",
    "z,c = enc(imgs)\n",
    "with torch.no_grad():\n",
    "    dec_imgs = dec(torch.cat((z,c), dim=1))\n",
    "dec_imgs.size()\n",
    "plot_batch(dec_imgs.detach().cpu(), y_batch)"
   ]
  },
  {
   "cell_type": "code",
   "execution_count": 25,
   "metadata": {
    "scrolled": false
   },
   "outputs": [
    {
     "data": {
      "image/png": "[encoded data removed]",
      "text/plain": [
       "<Figure size 432x432 with 9 Axes>"
      ]
     },
     "metadata": {},
     "output_type": "display_data"
    }
   ],
   "source": [
    "plot_batch(x_batch, y_batch)"
   ]
  },
  {
   "cell_type": "code",
   "execution_count": null,
   "metadata": {},
   "outputs": [],
   "source": []
  },
  {
   "cell_type": "code",
   "execution_count": 26,
   "metadata": {},
   "outputs": [
    {
     "data": {
      "text/plain": [
       "(tensor(0.5970, device='cuda:0', grad_fn=<MeanBackward1>),\n",
       " tensor(4.3956, device='cuda:0', grad_fn=<StdBackward0>))"
      ]
     },
     "execution_count": 26,
     "metadata": {},
     "output_type": "execute_result"
    }
   ],
   "source": [
    "z.mean(), z.std()"
   ]
  },
  {
   "cell_type": "code",
   "execution_count": 27,
   "metadata": {},
   "outputs": [
    {
     "data": {
      "text/plain": [
       "tensor([[-2.4344,  1.1842,  2.6842, -0.1083, -0.3955,  0.2919, -0.1625,  2.6428,\n",
       "         -1.4787,  3.7158],\n",
       "        [-0.4308,  1.5748, -0.6624,  0.2491,  0.5096,  2.5232,  0.2776,  0.8603,\n",
       "         -0.1212,  1.3766],\n",
       "        [-0.4970, -0.0740,  0.9838, -0.0872,  0.9836, -0.0243,  0.1897, -0.7160,\n",
       "         -1.9023,  1.0298],\n",
       "        [-4.3421, -1.8536,  3.8675, -0.3793,  2.3723,  1.5830,  1.9350, -0.6365,\n",
       "          0.6274, -1.6364],\n",
       "        [-1.2433,  0.6975,  2.7168,  0.6543, -2.7306,  1.3824, -0.0695,  1.5638,\n",
       "          3.0662,  2.1375]], device='cuda:0', grad_fn=<SliceBackward>)"
      ]
     },
     "execution_count": 27,
     "metadata": {},
     "output_type": "execute_result"
    }
   ],
   "source": [
    "c[:5]"
   ]
  },
  {
   "cell_type": "code",
   "execution_count": 25,
   "metadata": {},
   "outputs": [
    {
     "data": {
      "text/plain": [
       "tensor([  7.8924,  -0.1245,   1.7080,  13.3743,   2.6206,   4.9147,   8.9773,\n",
       "        -13.1673,   6.9255,   9.4521,   0.5025,  -0.8329,  -1.1997,   5.5821,\n",
       "          2.6489,   1.9488,   3.9964,   6.0659,  15.4787,   4.6944,   3.0698,\n",
       "          4.6362,   8.2191,   4.6596,   2.7903,  -6.4385,  -3.2262,   5.4737,\n",
       "          1.4982,  17.7409,   9.2437,   4.2365,   5.8599,   3.5971,   4.4005,\n",
       "         -3.4608,   0.5239,   5.1034,  10.8101,   7.6344,  11.0662,   5.6240,\n",
       "          3.2999,   4.4808,   0.7602,   2.9568,   9.7077,  -8.6934,  -3.7728,\n",
       "          0.6611,  -0.6217, -16.0474,  -5.8504,   4.2905,   4.1938,  11.7620,\n",
       "          2.5375,   3.5826,  14.4587,   2.7790,   2.0799,  -9.3261,  -6.4748,\n",
       "          0.4101,   3.3316,   8.9912,   1.7079,  -2.0614,   0.4139,   4.6693,\n",
       "          0.3017,   6.1627,   1.6470,   8.9177, -13.9103,  10.2883,   4.9061,\n",
       "         -1.7707,  -0.1454,  11.2084,   3.4588,  -4.6290,  -7.1760,   2.7070,\n",
       "         10.0366,   9.1297,  -4.0004,  10.3370,  12.6189,   2.1442,  -5.1034,\n",
       "         -5.9071,   4.7564,  -4.6724,   1.5828,  -7.1167, -10.7221,  -0.5179,\n",
       "          7.9742,   9.3726,   6.4701,   7.2840,  -7.4763,   7.3920,   5.5339,\n",
       "          2.6765,   4.8513, -15.1993, -16.6605,   2.9629,  10.2847,  -9.0543,\n",
       "         -3.1987,  11.0112,  12.3047,   6.7307,  -8.5654,   5.1889,  10.4818,\n",
       "          3.9340,   9.5020,   7.3831,   6.5828,   0.5281,  -1.5853,   6.4789,\n",
       "          7.0996,   3.3146], device='cuda:0', grad_fn=<SumBackward2>)"
      ]
     },
     "execution_count": 25,
     "metadata": {},
     "output_type": "execute_result"
    }
   ],
   "source": [
    "c.sum(dim=1)"
   ]
  },
  {
   "cell_type": "code",
   "execution_count": null,
   "metadata": {},
   "outputs": [],
   "source": []
  },
  {
   "cell_type": "code",
   "execution_count": null,
   "metadata": {},
   "outputs": [],
   "source": []
  },
  {
   "cell_type": "code",
   "execution_count": 26,
   "metadata": {},
   "outputs": [
    {
     "name": "stdout",
     "output_type": "stream",
     "text": [
      "tensor(157.4600, device='cuda:0') tensor(1417.5452, device='cuda:0')\n"
     ]
    }
   ],
   "source": [
    "with torch.no_grad():\n",
    "    imgs = dataset_train.data.to(device, dtype=torch.float32)\n",
    "    z, c = enc(imgs)\n",
    "    print(z.mean(), z.std())"
   ]
  },
  {
   "cell_type": "code",
   "execution_count": null,
   "metadata": {},
   "outputs": [],
   "source": []
  },
  {
   "cell_type": "code",
   "execution_count": null,
   "metadata": {},
   "outputs": [],
   "source": []
  },
  {
   "cell_type": "code",
   "execution_count": 28,
   "metadata": {},
   "outputs": [
    {
     "data": {
      "text/plain": [
       "tensor(0.4682, device='cuda:0')"
      ]
     },
     "execution_count": 28,
     "metadata": {},
     "output_type": "execute_result"
    }
   ],
   "source": [
    "with torch.no_grad():\n",
    "    yh = disc_gauss(gen_z_gauss(100))\n",
    "yh.mean()"
   ]
  },
  {
   "cell_type": "code",
   "execution_count": 29,
   "metadata": {},
   "outputs": [
    {
     "data": {
      "text/plain": [
       "tensor(0.7479, device='cuda:0')"
      ]
     },
     "execution_count": 29,
     "metadata": {},
     "output_type": "execute_result"
    }
   ],
   "source": [
    "with torch.no_grad():\n",
    "    yh = disc_gauss(z)\n",
    "yh.mean()"
   ]
  },
  {
   "cell_type": "code",
   "execution_count": null,
   "metadata": {},
   "outputs": [],
   "source": []
  }
 ],
 "metadata": {
  "kernelspec": {
   "display_name": "Python 3",
   "language": "python",
   "name": "python3"
  },
  "language_info": {
   "codemirror_mode": {
    "name": "ipython",
    "version": 3
   },
   "file_extension": ".py",
   "mimetype": "text/x-python",
   "name": "python",
   "nbconvert_exporter": "python",
   "pygments_lexer": "ipython3",
   "version": "3.7.1"
  }
 },
 "nbformat": 4,
 "nbformat_minor": 2
}
