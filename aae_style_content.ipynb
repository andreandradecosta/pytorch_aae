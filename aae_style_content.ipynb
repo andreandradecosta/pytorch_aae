{
 "cells": [
  {
   "cell_type": "code",
   "execution_count": 1,
   "metadata": {},
   "outputs": [],
   "source": [
    "import torch\n",
    "from torch import nn\n",
    "import torch.functional as F\n",
    "import torchvision\n",
    "import torchvision.transforms as transforms\n",
    "import torch.optim as optim\n",
    "from tqdm import tnrange\n",
    "import matplotlib.pyplot as plt\n",
    "import numpy as np"
   ]
  },
  {
   "cell_type": "code",
   "execution_count": 2,
   "metadata": {},
   "outputs": [],
   "source": [
    "torch.manual_seed(42)\n",
    "np.random.seed(42)\n",
    "torch.backends.cudnn.deterministic = True\n",
    "torch.backends.cudnn.benchmark = False"
   ]
  },
  {
   "cell_type": "code",
   "execution_count": 3,
   "metadata": {},
   "outputs": [],
   "source": [
    "device = torch.device('cuda' if torch.cuda.is_available() else 'cpu')"
   ]
  },
  {
   "cell_type": "code",
   "execution_count": 4,
   "metadata": {},
   "outputs": [],
   "source": [
    "batch_size = 128\n",
    "latent_space = 2"
   ]
  },
  {
   "cell_type": "markdown",
   "metadata": {},
   "source": [
    "### Data Load"
   ]
  },
  {
   "cell_type": "code",
   "execution_count": 5,
   "metadata": {},
   "outputs": [],
   "source": [
    "trfs = transforms.Compose([\n",
    "    transforms.ToTensor(),\n",
    "])\n",
    "dataset = torchvision.datasets.MNIST('./data', train=True, download=True, transform=trfs)\n",
    "\n",
    "dataloader = torch.utils.data.DataLoader(dataset, batch_size=batch_size, shuffle=True)\n",
    "\n",
    "dataset_size = len(dataset)\n",
    "n_classes = len(dataset.classes)"
   ]
  },
  {
   "cell_type": "code",
   "execution_count": 6,
   "metadata": {},
   "outputs": [],
   "source": [
    "def plot_batch(x_batch, y_batch):\n",
    "    plt.figure(figsize=(6, 6))\n",
    "    for i in range(9):\n",
    "        plt.subplot(3, 3, i+1)\n",
    "        plt.title(y_batch[i].numpy())\n",
    "        image = x_batch[i].squeeze().numpy()\n",
    "        plt.imshow(image, cmap='gray')\n",
    "    plt.tight_layout()    "
   ]
  },
  {
   "cell_type": "code",
   "execution_count": 7,
   "metadata": {},
   "outputs": [
    {
     "data": {
      "text/plain": [
       "(torch.Size([128, 1, 28, 28]), torch.Size([128]), tensor(1.), tensor(0.))"
      ]
     },
     "execution_count": 7,
     "metadata": {},
     "output_type": "execute_result"
    }
   ],
   "source": [
    "x_batch, y_batch = next(iter(dataloader))\n",
    "x_batch.shape, y_batch.shape, x_batch[0].max(), x_batch[0].min()"
   ]
  },
  {
   "cell_type": "code",
   "execution_count": 8,
   "metadata": {},
   "outputs": [
    {
     "data": {
      "image/png": "[encoded data removed]",
      "text/plain": [
       "<Figure size 432x432 with 9 Axes>"
      ]
     },
     "metadata": {},
     "output_type": "display_data"
    }
   ],
   "source": [
    "plot_batch(x_batch, y_batch)"
   ]
  },
  {
   "cell_type": "markdown",
   "metadata": {},
   "source": [
    "### Models"
   ]
  },
  {
   "cell_type": "code",
   "execution_count": 9,
   "metadata": {},
   "outputs": [],
   "source": [
    "class Encoder(nn.Module):\n",
    "    def __init__(self):\n",
    "        super().__init__()\n",
    "        self.model = nn.Sequential(\n",
    "            nn.Linear(784, 1000),\n",
    "            nn.ReLU(),\n",
    "            nn.Linear(1000, 1000),\n",
    "            nn.ReLU(),\n",
    "            nn.Linear(1000, latent_space)\n",
    "        )\n",
    "    \n",
    "    def forward(self, x):\n",
    "        x = x.view(-1, 784)\n",
    "        y = self.model(x)\n",
    "        return y"
   ]
  },
  {
   "cell_type": "code",
   "execution_count": 10,
   "metadata": {},
   "outputs": [],
   "source": [
    "class Decoder(nn.Module):\n",
    "    def __init__(self):\n",
    "        super().__init__()\n",
    "        self.model = nn.Sequential(\n",
    "            nn.Linear(latent_space + n_classes, 1000),\n",
    "            nn.ReLU(),\n",
    "            nn.Linear(1000, 1000),\n",
    "            nn.ReLU(),\n",
    "            nn.Linear(1000, 784),\n",
    "            nn.Sigmoid()\n",
    "        )\n",
    "    \n",
    "    def forward(self, x):\n",
    "        y = self.model(x)\n",
    "        y = y.view(-1, 1, 28, 28)\n",
    "        return y"
   ]
  },
  {
   "cell_type": "code",
   "execution_count": 11,
   "metadata": {},
   "outputs": [],
   "source": [
    "class Discriminator(nn.Module):\n",
    "   \n",
    "    def __init__(self):\n",
    "        super().__init__()\n",
    "        self.model = nn.Sequential(\n",
    "            nn.Linear(latent_space, 1000),\n",
    "            nn.ReLU(),\n",
    "            nn.Linear(1000, 1000),\n",
    "            nn.ReLU(),\n",
    "            nn.Linear(1000, 1),\n",
    "            nn.Sigmoid()\n",
    "        )\n",
    "\n",
    "    def forward(self, x):\n",
    "        y = self.model(x)\n",
    "        return y"
   ]
  },
  {
   "cell_type": "markdown",
   "metadata": {},
   "source": [
    "### Training"
   ]
  },
  {
   "cell_type": "code",
   "execution_count": 12,
   "metadata": {},
   "outputs": [],
   "source": [
    "def gen_z(i_size):\n",
    "    return (torch.randn(i_size, latent_space) * 5).to(device)"
   ]
  },
  {
   "cell_type": "code",
   "execution_count": 13,
   "metadata": {},
   "outputs": [
    {
     "data": {
      "application/vnd.jupyter.widget-view+json": {
       "model_id": "80a2822cb5234bf1b57cde5a9060a1f4",
       "version_major": 2,
       "version_minor": 0
      },
      "text/plain": [
       "HBox(children=(IntProgress(value=0), HTML(value='')))"
      ]
     },
     "metadata": {},
     "output_type": "display_data"
    },
    {
     "name": "stdout",
     "output_type": "stream",
     "text": [
      "\n",
      "CPU times: user 12min 25s, sys: 51.8 s, total: 13min 17s\n",
      "Wall time: 13min 26s\n"
     ]
    },
    {
     "data": {
      "image/png": "[encoded data removed]",
      "text/plain": [
       "<Figure size 720x576 with 1 Axes>"
      ]
     },
     "metadata": {},
     "output_type": "display_data"
    }
   ],
   "source": [
    "%%time\n",
    "n_epochs = 100\n",
    "lr = 1e-3\n",
    "\n",
    "enc = Encoder().to(device)\n",
    "dec = Decoder().to(device)\n",
    "\n",
    "ae_optimizer = optim.Adam(list(enc.parameters()) + list(dec.parameters()) , lr = lr)\n",
    "ae_criterion = nn.MSELoss()\n",
    "\n",
    "disc = Discriminator().to(device)\n",
    "disc_optimizer = optim.Adam(disc.parameters(), lr = lr)\n",
    "disc_criterion = nn.BCELoss()\n",
    "\n",
    "enc_optimizer = optim.Adam(enc.parameters(), lr = lr)\n",
    "enc_criterion = nn.BCELoss()\n",
    "\n",
    "ae_loss_hist = []\n",
    "disc_loss_hist = []\n",
    "enc_loss_hist = []\n",
    "\n",
    "with tnrange(n_epochs) as t:\n",
    "    for e in t:\n",
    "        t.set_description(f'Epoch: {e}/{n_epochs}')\n",
    "\n",
    "        ae_epoch_loss = 0.0\n",
    "        disc_epoch_loss = 0.0\n",
    "        enc_epoch_loss = 0.0\n",
    "        for inputs, targets in dataloader:\n",
    "            i_size = inputs.size(0)\n",
    "\n",
    "            inputs = inputs.to(device)\n",
    "            targets = targets.to(device)\n",
    "            \n",
    "            y_onehot = torch.zeros((i_size, n_classes), device=device)\n",
    "            y_onehot.scatter_(1, targets.view(-1, 1), 1)\n",
    "\n",
    "            # Reconstruction phase\n",
    "            ae_optimizer.zero_grad()\n",
    "            z_enc = enc(inputs)\n",
    "            dec_input = torch.cat((y_onehot, z_enc), 1)\n",
    "            ae_out = dec(dec_input)\n",
    "\n",
    "            ae_loss = ae_criterion(ae_out, inputs)\n",
    "            ae_loss.backward()\n",
    "            ae_optimizer.step()\n",
    "\n",
    "            ae_epoch_loss += ae_loss.item() * inputs.size(0)\n",
    "\n",
    "            # Regularization phase\n",
    "            ## Discriminator\n",
    "            z_real = gen_z(i_size)\n",
    "            z_enc = enc(inputs)\n",
    "            z_fake = z_enc.detach()\n",
    "\n",
    "            disc_optimizer.zero_grad()\n",
    "\n",
    "            disc_input = torch.cat((z_real, z_fake), dim=0)\n",
    "            disc_y = torch.cat((torch.ones(i_size, 1), torch.zeros(i_size, 1)), dim=0).to(device)\n",
    "\n",
    "            disc_y_hat = disc(disc_input)\n",
    "\n",
    "            disc_loss = disc_criterion(disc_y_hat, disc_y)\n",
    "            disc_loss.backward()\n",
    "            disc_optimizer.step()\n",
    "\n",
    "            disc_epoch_loss += disc_loss.item() * disc_input.size(0)\n",
    "\n",
    "            ## Encoder\n",
    "            enc_optimizer.zero_grad()\n",
    "\n",
    "            z_enc = enc(inputs)\n",
    "            enc_y = disc(z_enc)\n",
    "\n",
    "            ones = torch.ones(i_size, 1).to(device)\n",
    "            enc_loss = enc_criterion(enc_y, ones)\n",
    "\n",
    "            enc_loss.backward()\n",
    "            enc_optimizer.step()\n",
    "            enc_epoch_loss += enc_loss.item() * inputs.size(0)\n",
    "\n",
    "        # End of epoch    \n",
    "        ae_epoch_loss = ae_epoch_loss/dataset_size\n",
    "        disc_epoch_loss = disc_epoch_loss/(dataset_size*2)\n",
    "        enc_epoch_loss = enc_epoch_loss/dataset_size\n",
    "\n",
    "        t.set_postfix(ae=ae_epoch_loss, disc=disc_epoch_loss, enc=enc_epoch_loss)\n",
    "\n",
    "        ae_loss_hist.append(ae_epoch_loss)\n",
    "        disc_loss_hist.append(disc_epoch_loss)\n",
    "        enc_loss_hist.append(enc_epoch_loss)\n",
    "\n",
    "plt.figure(figsize=(10, 8))\n",
    "plt.plot(range(n_epochs), ae_loss_hist, label='ae')\n",
    "plt.plot(range(n_epochs), enc_loss_hist, label='enc')\n",
    "plt.plot(range(n_epochs), disc_loss_hist, label='disc')\n",
    "plt.legend();"
   ]
  },
  {
   "cell_type": "code",
   "execution_count": 14,
   "metadata": {},
   "outputs": [
    {
     "name": "stdout",
     "output_type": "stream",
     "text": [
      "ae loss: 0.026\tenc loss: 0.693\tdisc loss: 0.693\n"
     ]
    }
   ],
   "source": [
    "print(f'ae loss: {ae_loss_hist[-1]:.3f}\\t'\n",
    "      f'enc loss: {enc_loss_hist[-1]:.3f}\\t'\n",
    "      f'disc loss: {disc_loss_hist[-1]:.3f}')"
   ]
  },
  {
   "cell_type": "code",
   "execution_count": 15,
   "metadata": {},
   "outputs": [],
   "source": [
    "torch.save(dec.state_dict(), 'aae_style_dec.pth')"
   ]
  },
  {
   "cell_type": "markdown",
   "metadata": {},
   "source": [
    "### Evaluate Latent Space"
   ]
  },
  {
   "cell_type": "code",
   "execution_count": 16,
   "metadata": {},
   "outputs": [],
   "source": [
    "dec = Decoder().to(device)\n",
    "dec.load_state_dict(torch.load('aae_style_dec.pth'))"
   ]
  },
  {
   "cell_type": "code",
   "execution_count": 17,
   "metadata": {},
   "outputs": [
    {
     "data": {
      "text/plain": [
       "(torch.Size([96]),\n",
       " torch.Size([100, 10]),\n",
       " torch.Size([100, 2]),\n",
       " torch.Size([100, 12]))"
      ]
     },
     "execution_count": 17,
     "metadata": {},
     "output_type": "execute_result"
    }
   ],
   "source": [
    "n_samples = 100\n",
    "\n",
    "labels = torch.LongTensor(np.tile(np.arange(n_classes), int(n_samples/n_classes)))\n",
    "labels = labels.to(device)\n",
    "\n",
    "y_onehot = torch.zeros((n_samples, n_classes), device=device)\n",
    "y_onehot.scatter_(1, labels.view(-1, 1), 1)\n",
    "y_onehot.size()\n",
    "\n",
    "latent = gen_z(n_samples)\n",
    "\n",
    "samples = torch.cat((y_onehot, latent), dim=1)\n",
    "\n",
    "targets.size(), y_onehot.size(), latent.size(), samples.size()"
   ]
  },
  {
   "cell_type": "code",
   "execution_count": 18,
   "metadata": {},
   "outputs": [
    {
     "data": {
      "text/plain": [
       "tensor([[ 1.0000,  0.0000,  0.0000,  0.0000,  0.0000,  0.0000,  0.0000,  0.0000,\n",
       "          0.0000,  0.0000,  5.4795,  6.6261],\n",
       "        [ 0.0000,  1.0000,  0.0000,  0.0000,  0.0000,  0.0000,  0.0000,  0.0000,\n",
       "          0.0000,  0.0000, -5.6098,  1.0680],\n",
       "        [ 0.0000,  0.0000,  1.0000,  0.0000,  0.0000,  0.0000,  0.0000,  0.0000,\n",
       "          0.0000,  0.0000, -0.9817, -3.4929]], device='cuda:0')"
      ]
     },
     "execution_count": 18,
     "metadata": {},
     "output_type": "execute_result"
    }
   ],
   "source": [
    "samples[:3]"
   ]
  },
  {
   "cell_type": "code",
   "execution_count": 19,
   "metadata": {},
   "outputs": [
    {
     "data": {
      "image/png": "[encoded data removed]",
      "text/plain": [
       "<Figure size 864x864 with 1 Axes>"
      ]
     },
     "metadata": {},
     "output_type": "display_data"
    }
   ],
   "source": [
    "from torchvision.utils import make_grid\n",
    "samples_imgs = dec(samples)\n",
    "samples_imgs = samples_imgs.view(samples_imgs.size(0), 1, 28, 28).detach().cpu()\n",
    "grid_img = make_grid(samples_imgs, 10)\n",
    "grid_img = grid_img.numpy().transpose(1,2,0)\n",
    "plt.figure(figsize=(12, 12))\n",
    "plt.imshow(grid_img);"
   ]
  }
 ],
 "metadata": {
  "kernelspec": {
   "display_name": "Python 3",
   "language": "python",
   "name": "python3"
  },
  "language_info": {
   "codemirror_mode": {
    "name": "ipython",
    "version": 3
   },
   "file_extension": ".py",
   "mimetype": "text/x-python",
   "name": "python",
   "nbconvert_exporter": "python",
   "pygments_lexer": "ipython3",
   "version": "3.7.1"
  },
  "widgets": {
   "application/vnd.jupyter.widget-state+json": {
    "state": {
     "00e03b32e9414df6b8a993491487c674": {
      "model_module": "@jupyter-widgets/controls",
      "model_module_version": "1.3.0",
      "model_name": "DescriptionStyleModel",
      "state": {
       "description_width": ""
      }
     },
     "012875d8495f49699b6032cf2726bc55": {
      "model_module": "@jupyter-widgets/controls",
      "model_module_version": "1.3.0",
      "model_name": "ProgressStyleModel",
      "state": {
       "description_width": ""
      }
     },
     "022d28369cae491cbf0222c239e87d45": {
      "model_module": "@jupyter-widgets/controls",
      "model_module_version": "1.3.0",
      "model_name": "DescriptionStyleModel",
      "state": {
       "description_width": ""
      }
     },
     "024759738a9b4792a77bdea4ebd6a6fa": {
      "model_module": "@jupyter-widgets/base",
      "model_module_version": "1.1.0",
      "model_name": "LayoutModel",
      "state": {}
     },
     "04dcb67ff47c469ebba6d543ffa48010": {
      "model_module": "@jupyter-widgets/controls",
      "model_module_version": "1.3.0",
      "model_name": "HTMLModel",
      "state": {
       "layout": "IPY_MODEL_4aa0af4576d34cad82d25b37a5806769",
       "style": "IPY_MODEL_f0036d367ca4401597437e668f09e65b",
       "value": "100% 1000/1000 [3:08:24&lt;00:00, 11.36s/it]"
      }
     },
     "093e576e846b4b529830a4e04eb5a186": {
      "model_module": "@jupyter-widgets/base",
      "model_module_version": "1.1.0",
      "model_name": "LayoutModel",
      "state": {}
     },
     "0ba78af19afd4c689d759b86d6b52f9c": {
      "model_module": "@jupyter-widgets/base",
      "model_module_version": "1.1.0",
      "model_name": "LayoutModel",
      "state": {}
     },
     "0fd50bfe9c504980bea75dd4a9394710": {
      "model_module": "@jupyter-widgets/controls",
      "model_module_version": "1.3.0",
      "model_name": "HTMLModel",
      "state": {
       "layout": "IPY_MODEL_b90f6e6624054e479de0f7dbdc0fd1a7",
       "style": "IPY_MODEL_ad57a09df7ab4ad28096a0802cb18d10",
       "value": "100% 100/100 [13:07&lt;00:00,  7.90s/it, ae=0.0257, disc=0.693, enc=0.693]"
      }
     },
     "14f07da7e3284ae4b0a2bd812155720a": {
      "model_module": "@jupyter-widgets/controls",
      "model_module_version": "1.3.0",
      "model_name": "IntProgressModel",
      "state": {
       "bar_style": "success",
       "layout": "IPY_MODEL_3538e55281fe475990f1b8ca4fb5224c",
       "max": 200,
       "style": "IPY_MODEL_f9a3abb4d01243c3931aa9088a7b6ebb",
       "value": 200
      }
     },
     "1a1327ecc8cd4b9caf46e109335b96c2": {
      "model_module": "@jupyter-widgets/controls",
      "model_module_version": "1.3.0",
      "model_name": "HBoxModel",
      "state": {
       "children": [
        "IPY_MODEL_301bcac4bfab4c1bb3d4a2d4f7d14c03",
        "IPY_MODEL_d9aacef84ddb4d62bb503dc89deee78f"
       ],
       "layout": "IPY_MODEL_868cce2448324a91822522d949164b66"
      }
     },
     "249236e01c4e47fd8aabbe48b4249194": {
      "model_module": "@jupyter-widgets/base",
      "model_module_version": "1.1.0",
      "model_name": "LayoutModel",
      "state": {}
     },
     "25376030fea34cd7844ee4c20b562bf2": {
      "model_module": "@jupyter-widgets/base",
      "model_module_version": "1.1.0",
      "model_name": "LayoutModel",
      "state": {}
     },
     "286f5abb52a946f894f1c4824ebb0940": {
      "model_module": "@jupyter-widgets/base",
      "model_module_version": "1.1.0",
      "model_name": "LayoutModel",
      "state": {}
     },
     "301bcac4bfab4c1bb3d4a2d4f7d14c03": {
      "model_module": "@jupyter-widgets/controls",
      "model_module_version": "1.3.0",
      "model_name": "IntProgressModel",
      "state": {
       "bar_style": "success",
       "description": "Epoch: 3/4",
       "layout": "IPY_MODEL_4fdf2001a57a44fd91cd36586f1a68fc",
       "max": 4,
       "style": "IPY_MODEL_6de51c1626c24baeb8da696c2aa702f7",
       "value": 4
      }
     },
     "3538e55281fe475990f1b8ca4fb5224c": {
      "model_module": "@jupyter-widgets/base",
      "model_module_version": "1.1.0",
      "model_name": "LayoutModel",
      "state": {}
     },
     "36250dc962d04d8e8b6823cf2fd0e99f": {
      "model_module": "@jupyter-widgets/base",
      "model_module_version": "1.1.0",
      "model_name": "LayoutModel",
      "state": {}
     },
     "36a584a8da9241f5a869f932b2ee93e1": {
      "model_module": "@jupyter-widgets/controls",
      "model_module_version": "1.3.0",
      "model_name": "IntProgressModel",
      "state": {
       "bar_style": "success",
       "description": "Epoch: 99/100",
       "layout": "IPY_MODEL_8ef1b246e3d34776b11b2fe71237f99e",
       "style": "IPY_MODEL_ab0fc51a57cd421b8fe106b77c63fb60",
       "value": 100
      }
     },
     "3e742f60d358488e974a308877584e2c": {
      "model_module": "@jupyter-widgets/controls",
      "model_module_version": "1.3.0",
      "model_name": "IntProgressModel",
      "state": {
       "bar_style": "success",
       "description": "Epoch: 99/100",
       "layout": "IPY_MODEL_40ffbf77ac5647579d4a9859264dc657",
       "style": "IPY_MODEL_ed2a7329cfcb46a9bab0ec230f4d68ce",
       "value": 100
      }
     },
     "3fb68a31389f436fb82996ebcbd87c8e": {
      "model_module": "@jupyter-widgets/controls",
      "model_module_version": "1.3.0",
      "model_name": "HTMLModel",
      "state": {
       "layout": "IPY_MODEL_629c13741f6c4c5bb2dd935e181ae760",
       "style": "IPY_MODEL_022d28369cae491cbf0222c239e87d45",
       "value": "100% 100/100 [18:54&lt;00:00, 11.39s/it]"
      }
     },
     "40ffbf77ac5647579d4a9859264dc657": {
      "model_module": "@jupyter-widgets/base",
      "model_module_version": "1.1.0",
      "model_name": "LayoutModel",
      "state": {}
     },
     "4543ac6aa614413d84d0c0ede2f268a6": {
      "model_module": "@jupyter-widgets/controls",
      "model_module_version": "1.3.0",
      "model_name": "DescriptionStyleModel",
      "state": {
       "description_width": ""
      }
     },
     "48acc0afcf314189a78bff9aadf9fa25": {
      "model_module": "@jupyter-widgets/controls",
      "model_module_version": "1.3.0",
      "model_name": "DescriptionStyleModel",
      "state": {
       "description_width": ""
      }
     },
     "4aa0af4576d34cad82d25b37a5806769": {
      "model_module": "@jupyter-widgets/base",
      "model_module_version": "1.1.0",
      "model_name": "LayoutModel",
      "state": {}
     },
     "4c6d183b925d488c8654d7e828d4a207": {
      "model_module": "@jupyter-widgets/base",
      "model_module_version": "1.1.0",
      "model_name": "LayoutModel",
      "state": {}
     },
     "4d330f0261484229bbdcc3ecec0c5174": {
      "model_module": "@jupyter-widgets/controls",
      "model_module_version": "1.3.0",
      "model_name": "DescriptionStyleModel",
      "state": {
       "description_width": ""
      }
     },
     "4f40549ab0164f9a87453979778ecea2": {
      "model_module": "@jupyter-widgets/base",
      "model_module_version": "1.1.0",
      "model_name": "LayoutModel",
      "state": {}
     },
     "4fdf2001a57a44fd91cd36586f1a68fc": {
      "model_module": "@jupyter-widgets/base",
      "model_module_version": "1.1.0",
      "model_name": "LayoutModel",
      "state": {}
     },
     "588fd9027d7e41089cd9bc0574cf41cc": {
      "model_module": "@jupyter-widgets/base",
      "model_module_version": "1.1.0",
      "model_name": "LayoutModel",
      "state": {}
     },
     "5940c1a98008486bacf0f218994bf578": {
      "model_module": "@jupyter-widgets/controls",
      "model_module_version": "1.3.0",
      "model_name": "IntProgressModel",
      "state": {
       "bar_style": "success",
       "description": "Epoch: 99/100",
       "layout": "IPY_MODEL_36250dc962d04d8e8b6823cf2fd0e99f",
       "style": "IPY_MODEL_fc3b4cc944444d3e80f60530449728a8",
       "value": 100
      }
     },
     "6094157f55524c0bb3607258b4a11203": {
      "model_module": "@jupyter-widgets/controls",
      "model_module_version": "1.3.0",
      "model_name": "ProgressStyleModel",
      "state": {
       "description_width": "initial"
      }
     },
     "629c13741f6c4c5bb2dd935e181ae760": {
      "model_module": "@jupyter-widgets/base",
      "model_module_version": "1.1.0",
      "model_name": "LayoutModel",
      "state": {}
     },
     "638892ffa51d454c944251be92dbf7f6": {
      "model_module": "@jupyter-widgets/controls",
      "model_module_version": "1.3.0",
      "model_name": "IntProgressModel",
      "state": {
       "bar_style": "success",
       "description": "Epoch: 399/400",
       "layout": "IPY_MODEL_4f40549ab0164f9a87453979778ecea2",
       "max": 400,
       "style": "IPY_MODEL_ce7deda2d8dc4d288c198fd85de4718c",
       "value": 400
      }
     },
     "6a0075864000493aaf5fe11a401fdf05": {
      "model_module": "@jupyter-widgets/base",
      "model_module_version": "1.1.0",
      "model_name": "LayoutModel",
      "state": {}
     },
     "6de51c1626c24baeb8da696c2aa702f7": {
      "model_module": "@jupyter-widgets/controls",
      "model_module_version": "1.3.0",
      "model_name": "ProgressStyleModel",
      "state": {
       "description_width": "initial"
      }
     },
     "6e508e62396649e5abcbe4ad87588e6c": {
      "model_module": "@jupyter-widgets/controls",
      "model_module_version": "1.3.0",
      "model_name": "HBoxModel",
      "state": {
       "children": [
        "IPY_MODEL_bda8fc624e0a47ad86b58f59aff02e84",
        "IPY_MODEL_04dcb67ff47c469ebba6d543ffa48010"
       ],
       "layout": "IPY_MODEL_6a0075864000493aaf5fe11a401fdf05"
      }
     },
     "6fc5d0e4898e48f1aed3504faea3583d": {
      "model_module": "@jupyter-widgets/base",
      "model_module_version": "1.1.0",
      "model_name": "LayoutModel",
      "state": {}
     },
     "7151fda37d98421dbc23419760e52a55": {
      "model_module": "@jupyter-widgets/controls",
      "model_module_version": "1.3.0",
      "model_name": "IntProgressModel",
      "state": {
       "bar_style": "success",
       "layout": "IPY_MODEL_ad644da5471543688b79c74dfced616e",
       "max": 3,
       "style": "IPY_MODEL_75843b6b071e4b1c8b203c5197d189e7",
       "value": 3
      }
     },
     "73231b1bd7194c33a09d7c9379c12b25": {
      "model_module": "@jupyter-widgets/controls",
      "model_module_version": "1.3.0",
      "model_name": "HTMLModel",
      "state": {
       "layout": "IPY_MODEL_e2e2564b18b64f30b0f7f997dddffc52",
       "style": "IPY_MODEL_4d330f0261484229bbdcc3ecec0c5174",
       "value": "100% 100/100 [13:09&lt;00:00,  7.84s/it, ae=0.0524, disc=0.693, enc=0.696]"
      }
     },
     "73931f02cd3845e0b63ca1dfc36632d6": {
      "model_module": "@jupyter-widgets/controls",
      "model_module_version": "1.3.0",
      "model_name": "HBoxModel",
      "state": {
       "children": [
        "IPY_MODEL_638892ffa51d454c944251be92dbf7f6",
        "IPY_MODEL_a2323ce6776646afb17eb3a604b1edab"
       ],
       "layout": "IPY_MODEL_fc1c6cee20a04138950851702312c265"
      }
     },
     "74055ba0f2424366afb7229fbc814a9b": {
      "model_module": "@jupyter-widgets/controls",
      "model_module_version": "1.3.0",
      "model_name": "HBoxModel",
      "state": {
       "children": [
        "IPY_MODEL_7151fda37d98421dbc23419760e52a55",
        "IPY_MODEL_81b40c2438b54eb4a15443a7c4d7f4e5"
       ],
       "layout": "IPY_MODEL_024759738a9b4792a77bdea4ebd6a6fa"
      }
     },
     "75843b6b071e4b1c8b203c5197d189e7": {
      "model_module": "@jupyter-widgets/controls",
      "model_module_version": "1.3.0",
      "model_name": "ProgressStyleModel",
      "state": {
       "description_width": ""
      }
     },
     "80a2822cb5234bf1b57cde5a9060a1f4": {
      "model_module": "@jupyter-widgets/controls",
      "model_module_version": "1.3.0",
      "model_name": "HBoxModel",
      "state": {
       "children": [
        "IPY_MODEL_5940c1a98008486bacf0f218994bf578",
        "IPY_MODEL_85831dc5d5ab441fadc6a2dc4c53fe0e"
       ],
       "layout": "IPY_MODEL_286f5abb52a946f894f1c4824ebb0940"
      }
     },
     "81b40c2438b54eb4a15443a7c4d7f4e5": {
      "model_module": "@jupyter-widgets/controls",
      "model_module_version": "1.3.0",
      "model_name": "HTMLModel",
      "state": {
       "layout": "IPY_MODEL_81e304c38f6f4f5198d8aae2c47fa6bf",
       "style": "IPY_MODEL_48acc0afcf314189a78bff9aadf9fa25",
       "value": "100% 3/3 [00:36&lt;00:00, 12.37s/it]"
      }
     },
     "81e304c38f6f4f5198d8aae2c47fa6bf": {
      "model_module": "@jupyter-widgets/base",
      "model_module_version": "1.1.0",
      "model_name": "LayoutModel",
      "state": {}
     },
     "829e8c4ce1cd40faa9939485e7989308": {
      "model_module": "@jupyter-widgets/controls",
      "model_module_version": "1.3.0",
      "model_name": "HBoxModel",
      "state": {
       "children": [
        "IPY_MODEL_a3535fabb3ca4fe89baa47cca4b6a1d4",
        "IPY_MODEL_3fb68a31389f436fb82996ebcbd87c8e"
       ],
       "layout": "IPY_MODEL_b7a69a9edf9746b0a03449bc6a635283"
      }
     },
     "8462ad13afca4422a5e6ad272276b4b1": {
      "model_module": "@jupyter-widgets/controls",
      "model_module_version": "1.3.0",
      "model_name": "HTMLModel",
      "state": {
       "layout": "IPY_MODEL_c6861be072ae431abe0d3569a9571e21",
       "style": "IPY_MODEL_a4747abac2e2489991092980ef99a702",
       "value": "100% 200/200 [37:55&lt;00:00, 11.25s/it]"
      }
     },
     "85831dc5d5ab441fadc6a2dc4c53fe0e": {
      "model_module": "@jupyter-widgets/controls",
      "model_module_version": "1.3.0",
      "model_name": "HTMLModel",
      "state": {
       "layout": "IPY_MODEL_fecf58af44cc4b549a5e53ebb0df5200",
       "style": "IPY_MODEL_b476dcc15f474cb798a08740371c27e9",
       "value": "100% 100/100 [13:23&lt;00:00,  8.02s/it, ae=0.0257, disc=0.693, enc=0.693]"
      }
     },
     "868cce2448324a91822522d949164b66": {
      "model_module": "@jupyter-widgets/base",
      "model_module_version": "1.1.0",
      "model_name": "LayoutModel",
      "state": {}
     },
     "86c527f346844f49935bd6c751abf944": {
      "model_module": "@jupyter-widgets/controls",
      "model_module_version": "1.3.0",
      "model_name": "ProgressStyleModel",
      "state": {
       "description_width": ""
      }
     },
     "8ef1b246e3d34776b11b2fe71237f99e": {
      "model_module": "@jupyter-widgets/base",
      "model_module_version": "1.1.0",
      "model_name": "LayoutModel",
      "state": {}
     },
     "a2323ce6776646afb17eb3a604b1edab": {
      "model_module": "@jupyter-widgets/controls",
      "model_module_version": "1.3.0",
      "model_name": "HTMLModel",
      "state": {
       "layout": "IPY_MODEL_6fc5d0e4898e48f1aed3504faea3583d",
       "style": "IPY_MODEL_b84b6d5523fc43738dc1a786b6213084",
       "value": "100% 400/400 [1:19:01&lt;00:00, 11.75s/it, ae=0.058, disc=0.58, enc=1.14]"
      }
     },
     "a3535fabb3ca4fe89baa47cca4b6a1d4": {
      "model_module": "@jupyter-widgets/controls",
      "model_module_version": "1.3.0",
      "model_name": "IntProgressModel",
      "state": {
       "bar_style": "success",
       "layout": "IPY_MODEL_be312371c1f94ab196166ad40bd47139",
       "style": "IPY_MODEL_012875d8495f49699b6032cf2726bc55",
       "value": 100
      }
     },
     "a461578444964816a5930fd1dfcbb6e5": {
      "model_module": "@jupyter-widgets/controls",
      "model_module_version": "1.3.0",
      "model_name": "IntProgressModel",
      "state": {
       "bar_style": "success",
       "description": "Epoch: 99/100",
       "layout": "IPY_MODEL_093e576e846b4b529830a4e04eb5a186",
       "style": "IPY_MODEL_6094157f55524c0bb3607258b4a11203",
       "value": 100
      }
     },
     "a4747abac2e2489991092980ef99a702": {
      "model_module": "@jupyter-widgets/controls",
      "model_module_version": "1.3.0",
      "model_name": "DescriptionStyleModel",
      "state": {
       "description_width": ""
      }
     },
     "ab0fc51a57cd421b8fe106b77c63fb60": {
      "model_module": "@jupyter-widgets/controls",
      "model_module_version": "1.3.0",
      "model_name": "ProgressStyleModel",
      "state": {
       "description_width": "initial"
      }
     },
     "ad57a09df7ab4ad28096a0802cb18d10": {
      "model_module": "@jupyter-widgets/controls",
      "model_module_version": "1.3.0",
      "model_name": "DescriptionStyleModel",
      "state": {
       "description_width": ""
      }
     },
     "ad644da5471543688b79c74dfced616e": {
      "model_module": "@jupyter-widgets/base",
      "model_module_version": "1.1.0",
      "model_name": "LayoutModel",
      "state": {}
     },
     "b476dcc15f474cb798a08740371c27e9": {
      "model_module": "@jupyter-widgets/controls",
      "model_module_version": "1.3.0",
      "model_name": "DescriptionStyleModel",
      "state": {
       "description_width": ""
      }
     },
     "b7a69a9edf9746b0a03449bc6a635283": {
      "model_module": "@jupyter-widgets/base",
      "model_module_version": "1.1.0",
      "model_name": "LayoutModel",
      "state": {}
     },
     "b84b6d5523fc43738dc1a786b6213084": {
      "model_module": "@jupyter-widgets/controls",
      "model_module_version": "1.3.0",
      "model_name": "DescriptionStyleModel",
      "state": {
       "description_width": ""
      }
     },
     "b90f6e6624054e479de0f7dbdc0fd1a7": {
      "model_module": "@jupyter-widgets/base",
      "model_module_version": "1.1.0",
      "model_name": "LayoutModel",
      "state": {}
     },
     "bda8fc624e0a47ad86b58f59aff02e84": {
      "model_module": "@jupyter-widgets/controls",
      "model_module_version": "1.3.0",
      "model_name": "IntProgressModel",
      "state": {
       "bar_style": "success",
       "layout": "IPY_MODEL_25376030fea34cd7844ee4c20b562bf2",
       "max": 1000,
       "style": "IPY_MODEL_86c527f346844f49935bd6c751abf944",
       "value": 1000
      }
     },
     "be312371c1f94ab196166ad40bd47139": {
      "model_module": "@jupyter-widgets/base",
      "model_module_version": "1.1.0",
      "model_name": "LayoutModel",
      "state": {}
     },
     "c16e3c67371146a58aacfe353af3316f": {
      "model_module": "@jupyter-widgets/controls",
      "model_module_version": "1.3.0",
      "model_name": "HBoxModel",
      "state": {
       "children": [
        "IPY_MODEL_3e742f60d358488e974a308877584e2c",
        "IPY_MODEL_e97da7aa324d414993c067f54cef49f4"
       ],
       "layout": "IPY_MODEL_588fd9027d7e41089cd9bc0574cf41cc"
      }
     },
     "c6861be072ae431abe0d3569a9571e21": {
      "model_module": "@jupyter-widgets/base",
      "model_module_version": "1.1.0",
      "model_name": "LayoutModel",
      "state": {}
     },
     "ce7deda2d8dc4d288c198fd85de4718c": {
      "model_module": "@jupyter-widgets/controls",
      "model_module_version": "1.3.0",
      "model_name": "ProgressStyleModel",
      "state": {
       "description_width": "initial"
      }
     },
     "cfa82a1c81ca4de3b4675ab9863b00f4": {
      "model_module": "@jupyter-widgets/controls",
      "model_module_version": "1.3.0",
      "model_name": "HBoxModel",
      "state": {
       "children": [
        "IPY_MODEL_36a584a8da9241f5a869f932b2ee93e1",
        "IPY_MODEL_73231b1bd7194c33a09d7c9379c12b25"
       ],
       "layout": "IPY_MODEL_f5be6ae521494d799f1fbc33436062df"
      }
     },
     "d22dac20a1a5471b9375326ea8a8748f": {
      "model_module": "@jupyter-widgets/controls",
      "model_module_version": "1.3.0",
      "model_name": "HBoxModel",
      "state": {
       "children": [
        "IPY_MODEL_14f07da7e3284ae4b0a2bd812155720a",
        "IPY_MODEL_8462ad13afca4422a5e6ad272276b4b1"
       ],
       "layout": "IPY_MODEL_4c6d183b925d488c8654d7e828d4a207"
      }
     },
     "d9aacef84ddb4d62bb503dc89deee78f": {
      "model_module": "@jupyter-widgets/controls",
      "model_module_version": "1.3.0",
      "model_name": "HTMLModel",
      "state": {
       "layout": "IPY_MODEL_f529e1d5501d4f67843a5409b68a1930",
       "style": "IPY_MODEL_4543ac6aa614413d84d0c0ede2f268a6",
       "value": "100% 4/4 [00:26&lt;00:00,  6.87s/it, ae=0, disc=0.00131, enc=0]"
      }
     },
     "e17efc61d62b4a37938893542d4d27fd": {
      "model_module": "@jupyter-widgets/controls",
      "model_module_version": "1.3.0",
      "model_name": "HBoxModel",
      "state": {
       "children": [
        "IPY_MODEL_a461578444964816a5930fd1dfcbb6e5",
        "IPY_MODEL_0fd50bfe9c504980bea75dd4a9394710"
       ],
       "layout": "IPY_MODEL_0ba78af19afd4c689d759b86d6b52f9c"
      }
     },
     "e2e2564b18b64f30b0f7f997dddffc52": {
      "model_module": "@jupyter-widgets/base",
      "model_module_version": "1.1.0",
      "model_name": "LayoutModel",
      "state": {}
     },
     "e97da7aa324d414993c067f54cef49f4": {
      "model_module": "@jupyter-widgets/controls",
      "model_module_version": "1.3.0",
      "model_name": "HTMLModel",
      "state": {
       "layout": "IPY_MODEL_249236e01c4e47fd8aabbe48b4249194",
       "style": "IPY_MODEL_00e03b32e9414df6b8a993491487c674",
       "value": "100% 100/100 [13:04&lt;00:00,  7.82s/it, ae=0.0328, disc=0.693, enc=0.693]"
      }
     },
     "ed2a7329cfcb46a9bab0ec230f4d68ce": {
      "model_module": "@jupyter-widgets/controls",
      "model_module_version": "1.3.0",
      "model_name": "ProgressStyleModel",
      "state": {
       "description_width": "initial"
      }
     },
     "f0036d367ca4401597437e668f09e65b": {
      "model_module": "@jupyter-widgets/controls",
      "model_module_version": "1.3.0",
      "model_name": "DescriptionStyleModel",
      "state": {
       "description_width": ""
      }
     },
     "f529e1d5501d4f67843a5409b68a1930": {
      "model_module": "@jupyter-widgets/base",
      "model_module_version": "1.1.0",
      "model_name": "LayoutModel",
      "state": {}
     },
     "f5be6ae521494d799f1fbc33436062df": {
      "model_module": "@jupyter-widgets/base",
      "model_module_version": "1.1.0",
      "model_name": "LayoutModel",
      "state": {}
     },
     "f9a3abb4d01243c3931aa9088a7b6ebb": {
      "model_module": "@jupyter-widgets/controls",
      "model_module_version": "1.3.0",
      "model_name": "ProgressStyleModel",
      "state": {
       "description_width": ""
      }
     },
     "fc1c6cee20a04138950851702312c265": {
      "model_module": "@jupyter-widgets/base",
      "model_module_version": "1.1.0",
      "model_name": "LayoutModel",
      "state": {}
     },
     "fc3b4cc944444d3e80f60530449728a8": {
      "model_module": "@jupyter-widgets/controls",
      "model_module_version": "1.3.0",
      "model_name": "ProgressStyleModel",
      "state": {
       "description_width": "initial"
      }
     },
     "fecf58af44cc4b549a5e53ebb0df5200": {
      "model_module": "@jupyter-widgets/base",
      "model_module_version": "1.1.0",
      "model_name": "LayoutModel",
      "state": {}
     }
    },
    "version_major": 2,
    "version_minor": 0
   }
  }
 },
 "nbformat": 4,
 "nbformat_minor": 2
}
